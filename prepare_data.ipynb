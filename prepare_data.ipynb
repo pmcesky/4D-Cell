{
 "cells": [
  {
   "cell_type": "markdown",
   "metadata": {},
   "source": [
    "We extract and prepare data from the [2019 cell reports data](https://www.cell.com/cell-reports/fulltext/S2211-1247(18)31982-X) for our 4D cell classification. The 2019 cell reports data has 28 WT-EMB embryos, for each cell, we can extract its trajectory, mother cell, daughter cells and division angles."
   ]
  },
  {
   "cell_type": "markdown",
   "metadata": {},
   "source": [
    "# Extract trajectory"
   ]
  }
 ],
 "metadata": {
  "language_info": {
   "name": "python"
  }
 },
 "nbformat": 4,
 "nbformat_minor": 2
}
